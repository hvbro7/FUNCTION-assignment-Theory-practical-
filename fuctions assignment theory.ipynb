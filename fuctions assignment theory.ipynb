{
 "cells": [
  {
   "cell_type": "code",
   "execution_count": 1,
   "metadata": {},
   "outputs": [
    {
     "data": {
      "text/plain": [
       "' ANS             \\n     Function :-\\n     A function is a block of code that performs a specific task. It can take inputs (arguments) and return outputs.\\n     Functions are defined using the def keyword.\\n     They are not bound to any object and can be called independently.\\n     Independent, defined outside of classes, can be called anywhere.\\n     Method :-\\n     A method is similar to a function but is associated with an object (an instance of a class).\\n     Methods are defined within a class and can operate on the data contained in that object.\\n     They always take at least one argument.\\n     Associated with an object, defined within a class, and typically operates on data within that object.'"
      ]
     },
     "execution_count": 1,
     "metadata": {},
     "output_type": "execute_result"
    }
   ],
   "source": [
    "#Question 1 What is the difference between a function and a method in Python?\n",
    "\n",
    "''' ANS             \n",
    "     Function :-\n",
    "     A function is a block of code that performs a specific task. It can take inputs (arguments) and return outputs.\n",
    "     Functions are defined using the def keyword.\n",
    "     They are not bound to any object and can be called independently.\n",
    "     Independent, defined outside of classes, can be called anywhere.\n",
    "     Method :- \n",
    "     A method is similar to a function but is associated with an object (an instance of a class).\n",
    "     Methods are defined within a class and can operate on the data contained in that object.\n",
    "     They always take at least one argument.\n",
    "     Associated with an object, defined within a class, and typically operates on data within that object.'''"
   ]
  },
  {
   "cell_type": "code",
   "execution_count": 4,
   "metadata": {},
   "outputs": [
    {
     "data": {
      "text/plain": [
       "'ANS \\n    Parameters\\n    Parameters are the variables defined in the function signature.\\n    It acts as placeholders for the values that will be passed into the function when it is called.\\n\\n    Arguments\\n    Arguments are the actual values that we pass to a function when we call it.\\n    These values correspond to the parameters defined in the function.'"
      ]
     },
     "execution_count": 4,
     "metadata": {},
     "output_type": "execute_result"
    }
   ],
   "source": [
    "#Question 2  Explain the concept of function arguments and parameters in Python.\n",
    "'''ANS \n",
    "    Parameters\n",
    "    Parameters are the variables defined in the function signature.\n",
    "    It acts as placeholders for the values that will be passed into the function when it is called.\n",
    "    Parameters are the variables defined in a function signature.\n",
    "    Arguments\n",
    "    Arguments are the actual values that we pass to a function when we call it.\n",
    "    These values correspond to the parameters defined in the function.\n",
    "    Arguments are the actual values supplied to the function when it is called.'''"
   ]
  },
  {
   "cell_type": "code",
   "execution_count": 1,
   "metadata": {},
   "outputs": [
    {
     "name": "stdout",
     "output_type": "stream",
     "text": [
      "Hello, Alice!\n"
     ]
    }
   ],
   "source": [
    "#Question 3  What are the different ways to define and call a function in Python?\n",
    "'''ANS\n",
    "     Defining a Simple Function\n",
    "        We define a function using the def keyword, followed by the function name and parentheses.\n",
    "         If the function requires arguments, they are specified inside the parentheses.'''                 \n",
    "def greet(name):\n",
    "    print(f\"Hello, {name}!\")\n",
    "greet(\"Alice\")  # Calling the function\n",
    "\n",
    "\n"
   ]
  },
  {
   "cell_type": "code",
   "execution_count": 2,
   "metadata": {},
   "outputs": [
    {
     "name": "stdout",
     "output_type": "stream",
     "text": [
      "Hello, Guest!\n",
      "Hello, Bob!\n"
     ]
    }
   ],
   "source": [
    "'''Function with Default Parameters\n",
    "   we can specify default values for parameters in case no arguments are provided during the function call.'''\n",
    "def greet(name=\"Guest\"):\n",
    "    print(f\"Hello, {name}!\")\n",
    "\n",
    "greet()          # Calling the function\n",
    "greet(\"Bob\")     \n",
    "\n"
   ]
  },
  {
   "cell_type": "code",
   "execution_count": 3,
   "metadata": {},
   "outputs": [
    {
     "name": "stdout",
     "output_type": "stream",
     "text": [
      "1\n",
      "2\n",
      "3\n",
      "4\n",
      "name: Alice\n",
      "age: 30\n"
     ]
    }
   ],
   "source": [
    "'''. Function with Variable-Length Arguments\n",
    "            We can use args to allow a function to accept any number of positional arguments,\n",
    "             and kwargs for a variable number of keyword arguments.'''\n",
    "def print_numbers(*args):\n",
    "    for num in args:\n",
    "        print(num)\n",
    "\n",
    "def print_info(**kwargs):\n",
    "    for key, value in kwargs.items():\n",
    "        print(f\"{key}: {value}\")\n",
    "\n",
    "\n",
    "print_numbers(1, 2, 3, 4)  \n",
    "print_info(name=\"Alice\", age=30)  # Calling the function\n"
   ]
  },
  {
   "cell_type": "code",
   "execution_count": 4,
   "metadata": {},
   "outputs": [
    {
     "data": {
      "text/plain": [
       "\"ANS     \\n       The return statement in Python is used to exit a function and optionally pass a value back to the caller\\n       Returns a value to the caller: The function exits and sends a value back (if specified).\\n       Terminates the function early: If we need to exit a function before it reaches the end.\\n       Returns multiple values: Python allows returning multiple values in a tuple.\\n       Implicit None: Functions that don't use return or use return without a value return None by default.\""
      ]
     },
     "execution_count": 4,
     "metadata": {},
     "output_type": "execute_result"
    }
   ],
   "source": [
    "#Q4. What is the purpose of the `return` statement in a Python function?\n",
    "'''ANS     \n",
    "       The return statement in Python is used to exit a function and optionally pass a value back to the caller\n",
    "       Returns a value to the caller: The function exits and sends a value back (if specified).\n",
    "       Terminates the function early: If we need to exit a function before it reaches the end.\n",
    "       Returns multiple values: Python allows returning multiple values in a tuple.\n",
    "       Implicit None: Functions that don't use return or use return without a value return None by default.'''                   \n",
    "       "
   ]
  },
  {
   "cell_type": "code",
   "execution_count": 5,
   "metadata": {},
   "outputs": [
    {
     "data": {
      "text/plain": [
       "'ANS             \\n       Iterable\\n            An iterable is any Python object that can return an iterator. an iterable is any object that \\n            can be looped over (iterated) using a for loop.\\n\\n            An object is considered iterable if it implements the __iter__() method, which returns an iterator.\\n            Common examples of iterables include lists, tuples, strings, dictionaries, sets, and more.\\n        \\n        Iterator\\n        An iterator is an object that keeps track of its current state and knows how to fetch the next item in the sequence.\\n        An iterator is the object that performs the actual iteration over an iterable.\\n\\n        __iter__(): This method returns the iterator object itself. It allows an iterator to be used in a for loop\\n         or in other iteration contexts.\\n        __next__(): This method returns the next item in the sequence. When there are no more items to return, \\n        it raises the StopIteration exception to signal the end of iteration.'"
      ]
     },
     "execution_count": 5,
     "metadata": {},
     "output_type": "execute_result"
    }
   ],
   "source": [
    "#Q5. What are iterators in Python and how do they differ from iterables?\n",
    "'''ANS             \n",
    "       Iterable\n",
    "            An iterable is any Python object that can return an iterator. an iterable is any object that \n",
    "            can be looped over (iterated) using a for loop.\n",
    "\n",
    "            An object is considered iterable if it implements the __iter__() method, which returns an iterator.\n",
    "            Common examples of iterables include lists, tuples, strings, dictionaries, sets, and more.\n",
    "        \n",
    "        Iterator\n",
    "        An iterator is an object that keeps track of its current state and knows how to fetch the next item in the sequence.\n",
    "        An iterator is the object that performs the actual iteration over an iterable.\n",
    "\n",
    "        __iter__(): This method returns the iterator object itself. It allows an iterator to be used in a for loop\n",
    "         or in other iteration contexts.\n",
    "        __next__(): This method returns the next item in the sequence. When there are no more items to return, \n",
    "        it raises the StopIteration exception to signal the end of iteration.'''    "
   ]
  },
  {
   "cell_type": "code",
   "execution_count": null,
   "metadata": {},
   "outputs": [
    {
     "data": {
      "text/plain": [
       "'ANS      \\n      A generator in Python is a special type of iterator that allows us to iterate over a potentially large sequence of values,\\n      without storing them all in memory at once. Generators are useful when we have a large dataset and we want to avoid using\\n       too much memory by storing all items at once\\n       Values are generated one at a time, as needed, instead of being computed upfront.\\n       Each time a generator yields a value, it remembers where it left off, including local variables, the instruction pointer, etc.\\n       Memory Efficient Because they generate items one at a time, generators do not store the entire sequence in memory,\\n        making them suitable for working with large data sets.'"
      ]
     },
     "execution_count": 6,
     "metadata": {},
     "output_type": "execute_result"
    }
   ],
   "source": [
    "#Q6. Explain the concept of generators in Python and how they are defined.\n",
    "'''ANS      \n",
    "    A generator in Python is a special type of iterator that allows us to iterate over a potentially large sequence of values,\n",
    "    without storing them all in memory at once. Generators are useful when we have a large dataset and we want to avoid using\n",
    "    too much memory by storing all items at once\n",
    "    Values are generated one at a time, as needed, instead of being computed upfront.\n",
    "    Each time a generator yields a value, it remembers where it left off, including local variables, the instruction pointer, etc.\n",
    "    Memory Efficient Because they generate items one at a time, generators do not store the entire sequence in memory,\n",
    "    making them suitable for working with large data sets.'''                  "
   ]
  },
  {
   "cell_type": "code",
   "execution_count": 7,
   "metadata": {},
   "outputs": [
    {
     "data": {
      "text/plain": [
       "'Ans   \\n     1. Memory Efficiency:\\nGenerators generate values one at a time and lazily\\nthis is particularly useful when working with large datasets (e.g., reading large files, processing large sequences\\nbecause generators do not require the entire dataset to be stored in memory.\\n     2. Improved Performance:\\nSince generators yield items one at a time and avoid creating a full list or sequence, they can improve performance,\\nespecially for tasks that involve large iterations or streaming data.\\n     3. Readable and Concise Code:\\nGenerators can make code more concise and easier to understand compared to manually managing iterators or using other ways to manage state.\\nThe yield keyword makes it clear that a function is a generator and allows for a clean, stateful iteration without the need for extra variable.\\n     4.  State Preservation:\\nGenerators are inherently stateful. They remember the point at which they last yielded a value and resume execution from that\\npoint when next() is called. This is especially useful for problems that require maintaining state or processing items in sequence.\\nThis eliminates the need for explicit state management with variables in regular functions.'"
      ]
     },
     "execution_count": 7,
     "metadata": {},
     "output_type": "execute_result"
    }
   ],
   "source": [
    "#Q7. What are the advantages of using generators over regular functions?\n",
    "'''Ans   \n",
    "     1. Memory Efficiency:\n",
    "Generators generate values one at a time and lazily\n",
    "this is particularly useful when working with large datasets (e.g., reading large files, processing large sequences\n",
    "because generators do not require the entire dataset to be stored in memory.\n",
    "     2. Improved Performance:\n",
    "Since generators yield items one at a time and avoid creating a full list or sequence, they can improve performance,\n",
    "especially for tasks that involve large iterations or streaming data.\n",
    "     3. Readable and Concise Code:\n",
    "Generators can make code more concise and easier to understand compared to manually managing iterators or using other ways to manage state.\n",
    "The yield keyword makes it clear that a function is a generator and allows for a clean, stateful iteration without the need for extra variable.\n",
    "     4.  State Preservation:\n",
    "Generators are inherently stateful. They remember the point at which they last yielded a value and resume execution from that\n",
    "point when next() is called. This is especially useful for problems that require maintaining state or processing items in sequence.\n",
    "This eliminates the need for explicit state management with variables in regular functions.'''           \n",
    "      "
   ]
  },
  {
   "cell_type": "code",
   "execution_count": 8,
   "metadata": {},
   "outputs": [
    {
     "data": {
      "text/plain": [
       "\"ANS \\nA lambda function is a small anonymous function in Python. Unlike regular functions defined using the def keyword,\\na lambda function is defined using the lambda keyword, and it can take any number of arguments but can only have one\\nexpression. The result of the expression is automatically returned.\\n\\nLambda functions are typically used when:\\n\\n1. A short function is required: When you need a small, simple function for a short period and don't want to formally\\ndefine a function using def.\\n2. We want a function as an argument: Lambda functions are often used in functions that take another function as an argument,\\nsuch as functions like map(), filter(), sorted(), etc.\\n3. For one-liner functions: When you need a one-liner function that won't be reused, a lambda is often a concise alternative.\""
      ]
     },
     "execution_count": 8,
     "metadata": {},
     "output_type": "execute_result"
    }
   ],
   "source": [
    "#Q8. What is a lambda function in Python and when is it typically used?\n",
    "'''ANS \n",
    "A lambda function is a small anonymous function in Python. Unlike regular functions defined using the def keyword,\n",
    "a lambda function is defined using the lambda keyword, and it can take any number of arguments but can only have one\n",
    "expression. The result of the expression is automatically returned.\n",
    "\n",
    "Lambda functions are typically used when:\n",
    "\n",
    "1. A short function is required: When you need a small, simple function for a short period and don't want to formally\n",
    "define a function using def.\n",
    "2. We want a function as an argument: Lambda functions are often used in functions that take another function as an argument,\n",
    "such as functions like map(), filter(), sorted(), etc.\n",
    "3. For one-liner functions: When you need a one-liner function that won't be reused, a lambda is often a concise alternative.'''       "
   ]
  },
  {
   "cell_type": "code",
   "execution_count": 9,
   "metadata": {},
   "outputs": [
    {
     "data": {
      "text/plain": [
       "'ANS                    \\nThe map() function in Python is used to apply a given function to each item of an iterable (such as a list, tuple,\\n or any other sequence) and return an iterator that produces the results.\\n It allows us to transform data in an iterable by applying the same operation to every element in the iterable.\\n It can be used with functions (regular or lambda), and the function is applied lazily to the elements of the iterable(s).\\n The main advantage of map() over traditional for loops is that it provides a more functional approach to applying operations,\\n and can improve memory efficiency when working with large datasets.\\n The result is an iterator, which can be converted into a list, tuple, or other collection types for further use.'"
      ]
     },
     "execution_count": 9,
     "metadata": {},
     "output_type": "execute_result"
    }
   ],
   "source": [
    "#Q9. Explain the purpose and usage of the `map()` function in Python\n",
    "'''ANS                    \n",
    "The map() function in Python is used to apply a given function to each item of an iterable (such as a list, tuple,\n",
    " or any other sequence) and return an iterator that produces the results.\n",
    " It allows us to transform data in an iterable by applying the same operation to every element in the iterable.\n",
    " It can be used with functions (regular or lambda), and the function is applied lazily to the elements of the iterable(s).\n",
    " The main advantage of map() over traditional for loops is that it provides a more functional approach to applying operations,\n",
    " and can improve memory efficiency when working with large datasets.\n",
    " The result is an iterator, which can be converted into a list, tuple, or other collection types for further use.'''        "
   ]
  },
  {
   "cell_type": "code",
   "execution_count": 10,
   "metadata": {},
   "outputs": [
    {
     "data": {
      "text/plain": [
       "'ANS\\n1.       \\nThe map() function applies a given function to each item in an iterable (or multiple iterables) and returns\\nan iterator that produces the results. It is used for transforming or modifying the elements of an iterable.\\nTransform each item in the iterable.\\nCan apply a function to multiple iterables (provided they have the same length), processing elements in parallel.\\nReturns an iterator, not a list, which can be converted into a list or other collection types.\\n\\n2. \\nThe reduce() function applies a binary function (a function that takes two arguments) cumulatively to the items in an iterable,\\nreducing them to a single value. It is used for aggregation, such as summing, multiplying, or applying any operation that\\ncombines multiple elements into one.\\nReduces the iterable to a single value by applying a binary function.\\nThe function must take two arguments at a time.\\nDoes not return an iterator but the final reduced value.\\n\\n\\n3.\\nThe filter() function filters elements from an iterable based on a condition provided by a function.\\nIt is used for selecting or filtering elements from an iterable that satisfy a given condition (i.e., return True for the function).\\nFilters elements based on a condition.\\nReturns an iterator containing only the elements that satisfy the condition (i.e., for which the function returns True).\\nDoes not change the size of the iterable, but removes elements that do not satisfy the condition.'"
      ]
     },
     "execution_count": 10,
     "metadata": {},
     "output_type": "execute_result"
    }
   ],
   "source": [
    "#Q10. What is the difference between `map()`, `reduce()`, and `filter()` functions in Python\n",
    "'''ANS\n",
    "1.       \n",
    "The map() function applies a given function to each item in an iterable (or multiple iterables) and returns\n",
    "an iterator that produces the results. It is used for transforming or modifying the elements of an iterable.\n",
    "Transform each item in the iterable.\n",
    "Can apply a function to multiple iterables (provided they have the same length), processing elements in parallel.\n",
    "Returns an iterator, not a list, which can be converted into a list or other collection types.\n",
    "\n",
    "2. \n",
    "The reduce() function applies a binary function (a function that takes two arguments) cumulatively to the items in an iterable,\n",
    "reducing them to a single value. It is used for aggregation, such as summing, multiplying, or applying any operation that\n",
    "combines multiple elements into one.\n",
    "Reduces the iterable to a single value by applying a binary function.\n",
    "The function must take two arguments at a time.\n",
    "Does not return an iterator but the final reduced value.\n",
    "\n",
    "\n",
    "3.\n",
    "The filter() function filters elements from an iterable based on a condition provided by a function.\n",
    "It is used for selecting or filtering elements from an iterable that satisfy a given condition (i.e., return True for the function).\n",
    "Filters elements based on a condition.\n",
    "Returns an iterator containing only the elements that satisfy the condition (i.e., for which the function returns True).\n",
    "Does not change the size of the iterable, but removes elements that do not satisfy the condition.'''         "
   ]
  },
  {
   "cell_type": "code",
   "execution_count": 11,
   "metadata": {},
   "outputs": [
    {
     "data": {
      "text/plain": [
       "' Answer in drive ink   ......'"
      ]
     },
     "execution_count": 11,
     "metadata": {},
     "output_type": "execute_result"
    }
   ],
   "source": [
    "#Q11. Using pen & Paper write the internal mechanism for sum operation using  reduce function on this given\n",
    "list:[47,11,42,13]; \n",
    "''' Answer in drive ink   ......'''               "
   ]
  },
  {
   "cell_type": "code",
   "execution_count": null,
   "metadata": {},
   "outputs": [],
   "source": []
  }
 ],
 "metadata": {
  "kernelspec": {
   "display_name": "Python 3",
   "language": "python",
   "name": "python3"
  },
  "language_info": {
   "codemirror_mode": {
    "name": "ipython",
    "version": 3
   },
   "file_extension": ".py",
   "mimetype": "text/x-python",
   "name": "python",
   "nbconvert_exporter": "python",
   "pygments_lexer": "ipython3",
   "version": "3.11.5"
  }
 },
 "nbformat": 4,
 "nbformat_minor": 2
}
